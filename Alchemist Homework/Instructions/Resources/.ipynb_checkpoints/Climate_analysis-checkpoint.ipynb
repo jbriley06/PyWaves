{
 "cells": [
  {
   "cell_type": "code",
   "execution_count": 1,
   "metadata": {
    "collapsed": true
   },
   "outputs": [],
   "source": [
    "import sqlalchemy\n",
    "import pandas as pd\n",
    "import numpy as np\n",
    "import matplotlib.pyplot as plt\n",
    "from sqlalchemy.ext.automap import automap_base\n",
    "from sqlalchemy.orm import Session\n",
    "from sqlalchemy import create_engine, inspect, func\n",
    "import datetime as dt\n",
    "import seaborn as sns"
   ]
  },
  {
   "cell_type": "code",
   "execution_count": 2,
   "metadata": {
    "collapsed": true
   },
   "outputs": [],
   "source": [
    "engine = create_engine(\"sqlite:///hawaii.sqlite\")"
   ]
  },
  {
   "cell_type": "code",
   "execution_count": 3,
   "metadata": {},
   "outputs": [
    {
     "data": {
      "text/plain": [
       "['measurements', 'station']"
      ]
     },
     "execution_count": 3,
     "metadata": {},
     "output_type": "execute_result"
    }
   ],
   "source": [
    "inspector = inspect(engine)\n",
    "inspector.get_table_names()"
   ]
  },
  {
   "cell_type": "code",
   "execution_count": 4,
   "metadata": {},
   "outputs": [
    {
     "data": {
      "text/plain": [
       "[{'autoincrement': 'auto',\n",
       "  'default': None,\n",
       "  'name': 'id',\n",
       "  'nullable': False,\n",
       "  'primary_key': 1,\n",
       "  'type': INTEGER()},\n",
       " {'autoincrement': 'auto',\n",
       "  'default': None,\n",
       "  'name': 'station',\n",
       "  'nullable': True,\n",
       "  'primary_key': 0,\n",
       "  'type': TEXT()},\n",
       " {'autoincrement': 'auto',\n",
       "  'default': None,\n",
       "  'name': 'date',\n",
       "  'nullable': True,\n",
       "  'primary_key': 0,\n",
       "  'type': TEXT()},\n",
       " {'autoincrement': 'auto',\n",
       "  'default': None,\n",
       "  'name': 'prcp',\n",
       "  'nullable': True,\n",
       "  'primary_key': 0,\n",
       "  'type': INTEGER()},\n",
       " {'autoincrement': 'auto',\n",
       "  'default': None,\n",
       "  'name': 'tobs',\n",
       "  'nullable': True,\n",
       "  'primary_key': 0,\n",
       "  'type': INTEGER()}]"
      ]
     },
     "execution_count": 4,
     "metadata": {},
     "output_type": "execute_result"
    }
   ],
   "source": [
    "inspector.get_columns('measurements')"
   ]
  },
  {
   "cell_type": "code",
   "execution_count": 5,
   "metadata": {
    "collapsed": true
   },
   "outputs": [],
   "source": [
    "Base = automap_base()\n",
    "Base.prepare(engine, reflect=True)\n",
    "Measurements = Base.classes.measurements\n",
    "Stations = Base.classes.station"
   ]
  },
  {
   "cell_type": "code",
   "execution_count": 6,
   "metadata": {
    "collapsed": true
   },
   "outputs": [],
   "source": [
    "session = Session(engine)\n",
    "    "
   ]
  },
  {
   "cell_type": "markdown",
   "metadata": {},
   "source": [
    "## Preciptation Analysis "
   ]
  },
  {
   "cell_type": "code",
   "execution_count": 7,
   "metadata": {},
   "outputs": [
    {
     "data": {
      "text/html": [
       "<div>\n",
       "<style>\n",
       "    .dataframe thead tr:only-child th {\n",
       "        text-align: right;\n",
       "    }\n",
       "\n",
       "    .dataframe thead th {\n",
       "        text-align: left;\n",
       "    }\n",
       "\n",
       "    .dataframe tbody tr th {\n",
       "        vertical-align: top;\n",
       "    }\n",
       "</style>\n",
       "<table border=\"1\" class=\"dataframe\">\n",
       "  <thead>\n",
       "    <tr style=\"text-align: right;\">\n",
       "      <th></th>\n",
       "      <th>date</th>\n",
       "      <th>prcp</th>\n",
       "    </tr>\n",
       "  </thead>\n",
       "  <tbody>\n",
       "    <tr>\n",
       "      <th>0</th>\n",
       "      <td>2016-01-01</td>\n",
       "      <td>0.0</td>\n",
       "    </tr>\n",
       "    <tr>\n",
       "      <th>1</th>\n",
       "      <td>2016-01-02</td>\n",
       "      <td>0.0</td>\n",
       "    </tr>\n",
       "    <tr>\n",
       "      <th>2</th>\n",
       "      <td>2016-01-03</td>\n",
       "      <td>0.0</td>\n",
       "    </tr>\n",
       "    <tr>\n",
       "      <th>3</th>\n",
       "      <td>2016-01-04</td>\n",
       "      <td>0.0</td>\n",
       "    </tr>\n",
       "    <tr>\n",
       "      <th>4</th>\n",
       "      <td>2016-01-05</td>\n",
       "      <td>0.0</td>\n",
       "    </tr>\n",
       "  </tbody>\n",
       "</table>\n",
       "</div>"
      ],
      "text/plain": [
       "         date  prcp\n",
       "0  2016-01-01   0.0\n",
       "1  2016-01-02   0.0\n",
       "2  2016-01-03   0.0\n",
       "3  2016-01-04   0.0\n",
       "4  2016-01-05   0.0"
      ]
     },
     "execution_count": 7,
     "metadata": {},
     "output_type": "execute_result"
    }
   ],
   "source": [
    "# prcp_analysis= session.query(Measurements.date, Measurements.prcp).\\\n",
    "#         filter(func.strftime(\"%Y\", Measurements.date) == \"2016\").\\\n",
    "#         order_by(Measurements.tobs).all()\n",
    "\n",
    "# prcp_df = pd.DataFrame(prcp_analysis)\n",
    "# date_prcp = prcp_df.set_index(prcp_df[\"date\"])\n",
    "# date_prcp.head()\n",
    "\n",
    "#x = prcp_df[\"date\"]\n",
    "#y = prcp_df[\"prcp\"]\n",
    "\n",
    "\n",
    "precip_2016 =session.query(Measurements.date,Measurements.prcp).\\\n",
    "filter(Measurements.date.between('2016-01-01','2016-12-31')).all()\n",
    "\n",
    "prec_df= pd.DataFrame(precip_2016)\n",
    "prec_df.head()"
   ]
  },
  {
   "cell_type": "code",
   "execution_count": 8,
   "metadata": {},
   "outputs": [
    {
     "data": {
      "text/html": [
       "<div>\n",
       "<style>\n",
       "    .dataframe thead tr:only-child th {\n",
       "        text-align: right;\n",
       "    }\n",
       "\n",
       "    .dataframe thead th {\n",
       "        text-align: left;\n",
       "    }\n",
       "\n",
       "    .dataframe tbody tr th {\n",
       "        vertical-align: top;\n",
       "    }\n",
       "</style>\n",
       "<table border=\"1\" class=\"dataframe\">\n",
       "  <thead>\n",
       "    <tr style=\"text-align: right;\">\n",
       "      <th></th>\n",
       "      <th>date</th>\n",
       "      <th>prcp</th>\n",
       "    </tr>\n",
       "    <tr>\n",
       "      <th>date</th>\n",
       "      <th></th>\n",
       "      <th></th>\n",
       "    </tr>\n",
       "  </thead>\n",
       "  <tbody>\n",
       "    <tr>\n",
       "      <th>2016-01-01</th>\n",
       "      <td>2016-01-01</td>\n",
       "      <td>0.0</td>\n",
       "    </tr>\n",
       "    <tr>\n",
       "      <th>2016-01-02</th>\n",
       "      <td>2016-01-02</td>\n",
       "      <td>0.0</td>\n",
       "    </tr>\n",
       "    <tr>\n",
       "      <th>2016-01-03</th>\n",
       "      <td>2016-01-03</td>\n",
       "      <td>0.0</td>\n",
       "    </tr>\n",
       "    <tr>\n",
       "      <th>2016-01-04</th>\n",
       "      <td>2016-01-04</td>\n",
       "      <td>0.0</td>\n",
       "    </tr>\n",
       "    <tr>\n",
       "      <th>2016-01-05</th>\n",
       "      <td>2016-01-05</td>\n",
       "      <td>0.0</td>\n",
       "    </tr>\n",
       "  </tbody>\n",
       "</table>\n",
       "</div>"
      ],
      "text/plain": [
       "                 date  prcp\n",
       "date                       \n",
       "2016-01-01 2016-01-01   0.0\n",
       "2016-01-02 2016-01-02   0.0\n",
       "2016-01-03 2016-01-03   0.0\n",
       "2016-01-04 2016-01-04   0.0\n",
       "2016-01-05 2016-01-05   0.0"
      ]
     },
     "execution_count": 8,
     "metadata": {},
     "output_type": "execute_result"
    }
   ],
   "source": [
    "prec_df['date'] =  pd.to_datetime(prec_df['date'])\n",
    "prec_df.set_index(prec_df['date'], inplace = True)\n",
    "\n",
    "prec_df.head()"
   ]
  },
  {
   "cell_type": "code",
   "execution_count": 16,
   "metadata": {},
   "outputs": [
    {
     "data": {
      "image/png": "[encoded data removed]",
      "text/plain": [
       "<matplotlib.figure.Figure at 0x263f1103b38>"
      ]
     },
     "metadata": {},
     "output_type": "display_data"
    }
   ],
   "source": [
    "prec_df.plot(c='b',figsize=(18,8))\n",
    "plt.xlabel('Dates',fontsize=(18))\n",
    "plt.ylabel('Percipitation (inches)',fontsize=(18));\n",
    "plt.title('2016 Observed Rainfall in Hawaii',fontsize=(25));\n",
    "plt.legend(fontsize='x-large')\n",
    "plt.ylim(0,12)\n",
    "plt.tight_layout()\n",
    "plt.show()"
   ]
  },
  {
   "cell_type": "code",
   "execution_count": 17,
   "metadata": {},
   "outputs": [
    {
     "data": {
      "text/html": [
       "<div>\n",
       "<style>\n",
       "    .dataframe thead tr:only-child th {\n",
       "        text-align: right;\n",
       "    }\n",
       "\n",
       "    .dataframe thead th {\n",
       "        text-align: left;\n",
       "    }\n",
       "\n",
       "    .dataframe tbody tr th {\n",
       "        vertical-align: top;\n",
       "    }\n",
       "</style>\n",
       "<table border=\"1\" class=\"dataframe\">\n",
       "  <thead>\n",
       "    <tr style=\"text-align: right;\">\n",
       "      <th></th>\n",
       "      <th>count</th>\n",
       "      <th>mean</th>\n",
       "      <th>std</th>\n",
       "      <th>min</th>\n",
       "      <th>25%</th>\n",
       "      <th>50%</th>\n",
       "      <th>75%</th>\n",
       "      <th>max</th>\n",
       "    </tr>\n",
       "  </thead>\n",
       "  <tbody>\n",
       "    <tr>\n",
       "      <th>prcp</th>\n",
       "      <td>2069.0</td>\n",
       "      <td>0.179845</td>\n",
       "      <td>0.506363</td>\n",
       "      <td>0.0</td>\n",
       "      <td>0.0</td>\n",
       "      <td>0.02</td>\n",
       "      <td>0.15</td>\n",
       "      <td>9.64</td>\n",
       "    </tr>\n",
       "  </tbody>\n",
       "</table>\n",
       "</div>"
      ],
      "text/plain": [
       "       count      mean       std  min  25%   50%   75%   max\n",
       "prcp  2069.0  0.179845  0.506363  0.0  0.0  0.02  0.15  9.64"
      ]
     },
     "execution_count": 17,
     "metadata": {},
     "output_type": "execute_result"
    }
   ],
   "source": [
    "prec_df.describe().T"
   ]
  },
  {
   "cell_type": "markdown",
   "metadata": {
    "collapsed": true
   },
   "source": [
    "# Station Analysis"
   ]
  },
  {
   "cell_type": "code",
   "execution_count": null,
   "metadata": {
    "scrolled": true
   },
   "outputs": [],
   "source": [
    "session.query(Stations.station).all()"
   ]
  },
  {
   "cell_type": "code",
   "execution_count": 19,
   "metadata": {},
   "outputs": [
    {
     "data": {
      "text/plain": [
       "[('USC00518838', 342),\n",
       " ('USC00517948', 683),\n",
       " ('USC00511918', 1932),\n",
       " ('USC00514830', 1937),\n",
       " ('USC00516128', 2484),\n",
       " ('USC00519523', 2572),\n",
       " ('USC00519397', 2685),\n",
       " ('USC00513117', 2696),\n",
       " ('USC00519281', 2772)]"
      ]
     },
     "execution_count": 19,
     "metadata": {},
     "output_type": "execute_result"
    }
   ],
   "source": [
    "# session.query(Stations.station, func.count())\\\n",
    "#     order_by(func.count(Stations.station))\\\n",
    "#     join(Measurements)\\\n",
    "#     order_by(Stations.station).all()\n",
    "\n",
    "\n",
    "active_stations = session.query(Measurements.station,func.count(Measurements.station))\\\n",
    ".order_by(func.count(Measurements.station))\\\n",
    ".group_by(Measurements.station).all()\n",
    "    \n",
    "active_stations"
   ]
  },
  {
   "cell_type": "code",
   "execution_count": 20,
   "metadata": {},
   "outputs": [
    {
     "data": {
      "text/html": [
       "<div>\n",
       "<style>\n",
       "    .dataframe thead tr:only-child th {\n",
       "        text-align: right;\n",
       "    }\n",
       "\n",
       "    .dataframe thead th {\n",
       "        text-align: left;\n",
       "    }\n",
       "\n",
       "    .dataframe tbody tr th {\n",
       "        vertical-align: top;\n",
       "    }\n",
       "</style>\n",
       "<table border=\"1\" class=\"dataframe\">\n",
       "  <thead>\n",
       "    <tr style=\"text-align: right;\">\n",
       "      <th></th>\n",
       "      <th>Station_id</th>\n",
       "      <th>Activity Count</th>\n",
       "    </tr>\n",
       "  </thead>\n",
       "  <tbody>\n",
       "    <tr>\n",
       "      <th>0</th>\n",
       "      <td>USC00518838</td>\n",
       "      <td>342</td>\n",
       "    </tr>\n",
       "    <tr>\n",
       "      <th>1</th>\n",
       "      <td>USC00517948</td>\n",
       "      <td>683</td>\n",
       "    </tr>\n",
       "    <tr>\n",
       "      <th>2</th>\n",
       "      <td>USC00511918</td>\n",
       "      <td>1932</td>\n",
       "    </tr>\n",
       "    <tr>\n",
       "      <th>3</th>\n",
       "      <td>USC00514830</td>\n",
       "      <td>1937</td>\n",
       "    </tr>\n",
       "    <tr>\n",
       "      <th>4</th>\n",
       "      <td>USC00516128</td>\n",
       "      <td>2484</td>\n",
       "    </tr>\n",
       "  </tbody>\n",
       "</table>\n",
       "</div>"
      ],
      "text/plain": [
       "    Station_id  Activity Count\n",
       "0  USC00518838             342\n",
       "1  USC00517948             683\n",
       "2  USC00511918            1932\n",
       "3  USC00514830            1937\n",
       "4  USC00516128            2484"
      ]
     },
     "execution_count": 20,
     "metadata": {},
     "output_type": "execute_result"
    }
   ],
   "source": [
    "station_list = []\n",
    "active_list = [] \n",
    "\n",
    "for station, activity in active_stations:\n",
    "    station_list.append(station)\n",
    "    active_list.append(activity)\n",
    "    \n",
    "station_activity_df = pd.DataFrame({'Activity Count': active_list,'Station_id': station_list})\n",
    "\n",
    "\n",
    "station_activity_df = station_activity_df[[ 'Station_id','Activity Count']]\n",
    "\n",
    "station_activity_df.head()"
   ]
  },
  {
   "cell_type": "code",
   "execution_count": 21,
   "metadata": {},
   "outputs": [
    {
     "data": {
      "text/plain": [
       "[(84, 'USC00519523'),\n",
       " (83, 'USC00514830'),\n",
       " (82, 'USC00517948'),\n",
       " (82, 'USC00519281'),\n",
       " (82, 'USC00519397'),\n",
       " (81, 'USC00516128'),\n",
       " (80, 'USC00513117')]"
      ]
     },
     "execution_count": 21,
     "metadata": {},
     "output_type": "execute_result"
    }
   ],
   "source": [
    "active_stations1 = session.query(Measurements.tobs,Measurements.station).\\\n",
    "   group_by(Measurements.station).\\\n",
    "   filter(func.strftime(\"%Y\", Measurements.date) == \"2016\").\\\n",
    "   order_by(func.max(Measurements.tobs).desc()).all()\n",
    "active_stations1    "
   ]
  },
  {
   "cell_type": "markdown",
   "metadata": {},
   "source": [
    "USC00519523 has the highest observations"
   ]
  },
  {
   "cell_type": "code",
   "execution_count": 23,
   "metadata": {
    "scrolled": false
   },
   "outputs": [],
   "source": [
    "Stationhigh_obervations = session.query(Measurements.date,Measurements.tobs,Measurements.station).\\\n",
    "filter(Measurements.date.between('2016-01-01','2016-12-31')).filter_by(station='USC00519523')\\\n",
    ".all()\n",
    "#USC00519281\n",
    "\n",
    "Stationhigh_obervations\n",
    "None"
   ]
  },
  {
   "cell_type": "code",
   "execution_count": 26,
   "metadata": {},
   "outputs": [],
   "source": [
    "Highest_Station_obervations = session.query(Measurements.date,Measurements.tobs,Measurements.station).\\\n",
    "filter(Measurements.date.between('2016-01-01','2016-12-31')).filter_by(station='USC00519523').all()\n",
    "Highest_Station_obervations\n",
    "None"
   ]
  },
  {
   "cell_type": "code",
   "execution_count": 35,
   "metadata": {},
   "outputs": [
    {
     "data": {
      "text/html": [
       "<div>\n",
       "<style>\n",
       "    .dataframe thead tr:only-child th {\n",
       "        text-align: right;\n",
       "    }\n",
       "\n",
       "    .dataframe thead th {\n",
       "        text-align: left;\n",
       "    }\n",
       "\n",
       "    .dataframe tbody tr th {\n",
       "        vertical-align: top;\n",
       "    }\n",
       "</style>\n",
       "<table border=\"1\" class=\"dataframe\">\n",
       "  <thead>\n",
       "    <tr style=\"text-align: right;\">\n",
       "      <th></th>\n",
       "      <th>Date</th>\n",
       "      <th>Station</th>\n",
       "      <th>Temperature</th>\n",
       "    </tr>\n",
       "    <tr>\n",
       "      <th>Date</th>\n",
       "      <th></th>\n",
       "      <th></th>\n",
       "      <th></th>\n",
       "    </tr>\n",
       "  </thead>\n",
       "  <tbody>\n",
       "    <tr>\n",
       "      <th>2016-01-01</th>\n",
       "      <td>2016-01-01</td>\n",
       "      <td>USC00519523</td>\n",
       "      <td>64</td>\n",
       "    </tr>\n",
       "    <tr>\n",
       "      <th>2016-01-02</th>\n",
       "      <td>2016-01-02</td>\n",
       "      <td>USC00519523</td>\n",
       "      <td>73</td>\n",
       "    </tr>\n",
       "    <tr>\n",
       "      <th>2016-01-03</th>\n",
       "      <td>2016-01-03</td>\n",
       "      <td>USC00519523</td>\n",
       "      <td>69</td>\n",
       "    </tr>\n",
       "    <tr>\n",
       "      <th>2016-01-06</th>\n",
       "      <td>2016-01-06</td>\n",
       "      <td>USC00519523</td>\n",
       "      <td>74</td>\n",
       "    </tr>\n",
       "    <tr>\n",
       "      <th>2016-01-07</th>\n",
       "      <td>2016-01-07</td>\n",
       "      <td>USC00519523</td>\n",
       "      <td>68</td>\n",
       "    </tr>\n",
       "  </tbody>\n",
       "</table>\n",
       "</div>"
      ],
      "text/plain": [
       "                  Date      Station  Temperature\n",
       "Date                                            \n",
       "2016-01-01  2016-01-01  USC00519523           64\n",
       "2016-01-02  2016-01-02  USC00519523           73\n",
       "2016-01-03  2016-01-03  USC00519523           69\n",
       "2016-01-06  2016-01-06  USC00519523           74\n",
       "2016-01-07  2016-01-07  USC00519523           68"
      ]
     },
     "execution_count": 35,
     "metadata": {},
     "output_type": "execute_result"
    }
   ],
   "source": [
    "date_list = []\n",
    "temp_list = []\n",
    "station_list = []\n",
    "\n",
    "for date, temp, station in Highest_Station_obervations:\n",
    "    date_list.append(date)\n",
    "    temp_list.append(temp)\n",
    "    station_list.append(station)\n",
    "    \n",
    "hi_station_df = pd.DataFrame({\"Date\": date_list, \"Temperature\": temp_list, \"Station\": station_list})    \n",
    "hi_station_df.set_index(hi_station_df[\"Date\"], inplace= True)\n",
    "hi_station_df.head()"
   ]
  },
  {
   "cell_type": "code",
   "execution_count": 40,
   "metadata": {},
   "outputs": [
    {
     "data": {
      "image/png": "[encoded data removed]",
      "text/plain": [
       "<matplotlib.figure.Figure at 0x263f160d588>"
      ]
     },
     "metadata": {},
     "output_type": "display_data"
    }
   ],
   "source": [
    "hi_station_df.plot(kind= \"hist\", bins= 12)\n",
    "plt.show()"
   ]
  },
  {
   "cell_type": "markdown",
   "metadata": {},
   "source": [
    "## Temperature Analysis"
   ]
  },
  {
   "cell_type": "code",
   "execution_count": 44,
   "metadata": {},
   "outputs": [
    {
     "name": "stdout",
     "output_type": "stream",
     "text": [
      "[(56, 74.08554857419043, 84)]\n"
     ]
    }
   ],
   "source": [
    "def calc_temps(start_date, end_date):\n",
    "    \"\"\"TMIN, TAVG, and TMAX for a list of dates.\n",
    "    \n",
    "    Args:\n",
    "        start_date (string): A date string in the format %Y-%m-%d\n",
    "        end_date (string): A date string in the format %Y-%m-%d\n",
    "        \n",
    "    Returns:\n",
    "        TMIN, TAVE, and TMAX\n",
    "    \"\"\"\n",
    "    \n",
    "    return session.query(func.min(Measurements.tobs), func.avg(Measurements.tobs), func.max(Measurements.tobs)).\\\n",
    "        filter(Measurements.date >= start_date).filter(Measurements.date <= end_date).all()\n",
    "print(calc_temps('2016-01-01', '2016-12-31'))"
   ]
  },
  {
   "cell_type": "code",
   "execution_count": 122,
   "metadata": {},
   "outputs": [
    {
     "data": {
      "text/plain": [
       "84"
      ]
     },
     "execution_count": 122,
     "metadata": {},
     "output_type": "execute_result"
    }
   ],
   "source": [
    "temp_plot = calc_temps('2016-01-01', '2016-12-31')\n",
    "\n",
    "#df_temp_2016 = pd.Dataframe(temp_plot)\n",
    "\n",
    "#set variables for \n",
    "min_temp = temp_plot[0][0]\n",
    "avg_temp = temp_plot[0][1]\n",
    "max_temp = temp_plot[0][2]\n",
    "max_temp"
   ]
  },
  {
   "cell_type": "code",
   "execution_count": 119,
   "metadata": {},
   "outputs": [],
   "source": [
    "df_avg_min_max_temps = pd.DataFrame({'Avg': [temp_plot[0][0]],\n",
    "                               'Min': [temp_plot[0][1]],\n",
    "                               'Max': [temp_plot[0][2]]})\n",
    "#\n",
    "df_avg_min_max_temps.reset_index()\n",
    "df_avg_min_max_temps.rename_axis({\"index\": \"V\", 0: \"Temps\" }, axis = 1, inplace= True)\n"
   ]
  },
  {
   "cell_type": "code",
   "execution_count": 123,
   "metadata": {
    "scrolled": true
   },
   "outputs": [
    {
     "data": {
      "image/png": "[encoded data removed]",
      "text/plain": [
       "<matplotlib.figure.Figure at 0x263f23b0fd0>"
      ]
     },
     "metadata": {},
     "output_type": "display_data"
    }
   ],
   "source": [
    "# df_avg_min_max_temps.plot(kind=\"bar\")\n",
    "# plt.show()\n",
    "\n",
    "yerr= max_temp- min_temp\n",
    "\n",
    "plt.figure(figsize=(3,6))\n",
    "plt.bar(left= 1, height= avg_temp, yerr=yerr, alpha=0.5, color='blue', align=\"center\")\n",
    "plt.ylabel(\"Temp (F)\")\n",
    "plt.title(\"Average Temp\")\n",
    "plt.tight_layout()\n",
    "plt.show()"
   ]
  },
  {
   "cell_type": "code",
   "execution_count": null,
   "metadata": {
    "collapsed": true
   },
   "outputs": [],
   "source": []
  }
 ],
 "metadata": {
  "kernelspec": {
   "display_name": "Python 3",
   "language": "python",
   "name": "python3"
  },
  "language_info": {
   "codemirror_mode": {
    "name": "ipython",
    "version": 3
   },
   "file_extension": ".py",
   "mimetype": "text/x-python",
   "name": "python",
   "nbconvert_exporter": "python",
   "pygments_lexer": "ipython3",
   "version": "3.6.2"
  }
 },
 "nbformat": 4,
 "nbformat_minor": 2
}
