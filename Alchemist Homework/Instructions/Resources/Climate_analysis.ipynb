{
 "cells": [
  {
   "cell_type": "code",
   "execution_count": 93,
   "metadata": {
    "collapsed": true
   },
   "outputs": [],
   "source": [
    "import sqlalchemy\n",
    "import pandas as pd\n",
    "import numpy as np\n",
    "import matplotlib.pyplot as plt\n",
    "from sqlalchemy.ext.automap import automap_base\n",
    "from sqlalchemy.orm import Session\n",
    "from sqlalchemy import create_engine, inspect, func\n",
    "import datetime as dt\n",
    "import seaborn as sns"
   ]
  },
  {
   "cell_type": "code",
   "execution_count": 2,
   "metadata": {
    "collapsed": true
   },
   "outputs": [],
   "source": [
    "engine = create_engine(\"sqlite:///hawaii.sqlite\")"
   ]
  },
  {
   "cell_type": "code",
   "execution_count": 3,
   "metadata": {},
   "outputs": [
    {
     "data": {
      "text/plain": [
       "['measurements', 'station']"
      ]
     },
     "execution_count": 3,
     "metadata": {},
     "output_type": "execute_result"
    }
   ],
   "source": [
    "inspector = inspect(engine)\n",
    "inspector.get_table_names()"
   ]
  },
  {
   "cell_type": "code",
   "execution_count": 4,
   "metadata": {},
   "outputs": [
    {
     "data": {
      "text/plain": [
       "[{'autoincrement': 'auto',\n",
       "  'default': None,\n",
       "  'name': 'id',\n",
       "  'nullable': False,\n",
       "  'primary_key': 1,\n",
       "  'type': INTEGER()},\n",
       " {'autoincrement': 'auto',\n",
       "  'default': None,\n",
       "  'name': 'station',\n",
       "  'nullable': True,\n",
       "  'primary_key': 0,\n",
       "  'type': TEXT()},\n",
       " {'autoincrement': 'auto',\n",
       "  'default': None,\n",
       "  'name': 'date',\n",
       "  'nullable': True,\n",
       "  'primary_key': 0,\n",
       "  'type': TEXT()},\n",
       " {'autoincrement': 'auto',\n",
       "  'default': None,\n",
       "  'name': 'prcp',\n",
       "  'nullable': True,\n",
       "  'primary_key': 0,\n",
       "  'type': INTEGER()},\n",
       " {'autoincrement': 'auto',\n",
       "  'default': None,\n",
       "  'name': 'tobs',\n",
       "  'nullable': True,\n",
       "  'primary_key': 0,\n",
       "  'type': INTEGER()}]"
      ]
     },
     "execution_count": 4,
     "metadata": {},
     "output_type": "execute_result"
    }
   ],
   "source": [
    "inspector.get_columns('measurements')"
   ]
  },
  {
   "cell_type": "code",
   "execution_count": 77,
   "metadata": {
    "collapsed": true
   },
   "outputs": [],
   "source": [
    "Base = automap_base()\n",
    "Base.prepare(engine, reflect=True)\n",
    "Measurements = Base.classes.measurements\n",
    "Stations = Base.classes.station"
   ]
  },
  {
   "cell_type": "code",
   "execution_count": 20,
   "metadata": {
    "collapsed": true
   },
   "outputs": [],
   "source": [
    "session = Session(engine)\n",
    "    "
   ]
  },
  {
   "cell_type": "markdown",
   "metadata": {},
   "source": [
    "## Preciptation Analysis "
   ]
  },
  {
   "cell_type": "code",
   "execution_count": 129,
   "metadata": {},
   "outputs": [
    {
     "data": {
      "text/html": [
       "<div>\n",
       "<style>\n",
       "    .dataframe thead tr:only-child th {\n",
       "        text-align: right;\n",
       "    }\n",
       "\n",
       "    .dataframe thead th {\n",
       "        text-align: left;\n",
       "    }\n",
       "\n",
       "    .dataframe tbody tr th {\n",
       "        vertical-align: top;\n",
       "    }\n",
       "</style>\n",
       "<table border=\"1\" class=\"dataframe\">\n",
       "  <thead>\n",
       "    <tr style=\"text-align: right;\">\n",
       "      <th></th>\n",
       "      <th>date</th>\n",
       "      <th>prcp</th>\n",
       "    </tr>\n",
       "  </thead>\n",
       "  <tbody>\n",
       "    <tr>\n",
       "      <th>0</th>\n",
       "      <td>2016-01-01</td>\n",
       "      <td>0.0</td>\n",
       "    </tr>\n",
       "    <tr>\n",
       "      <th>1</th>\n",
       "      <td>2016-01-02</td>\n",
       "      <td>0.0</td>\n",
       "    </tr>\n",
       "    <tr>\n",
       "      <th>2</th>\n",
       "      <td>2016-01-03</td>\n",
       "      <td>0.0</td>\n",
       "    </tr>\n",
       "    <tr>\n",
       "      <th>3</th>\n",
       "      <td>2016-01-04</td>\n",
       "      <td>0.0</td>\n",
       "    </tr>\n",
       "    <tr>\n",
       "      <th>4</th>\n",
       "      <td>2016-01-05</td>\n",
       "      <td>0.0</td>\n",
       "    </tr>\n",
       "  </tbody>\n",
       "</table>\n",
       "</div>"
      ],
      "text/plain": [
       "         date  prcp\n",
       "0  2016-01-01   0.0\n",
       "1  2016-01-02   0.0\n",
       "2  2016-01-03   0.0\n",
       "3  2016-01-04   0.0\n",
       "4  2016-01-05   0.0"
      ]
     },
     "execution_count": 129,
     "metadata": {},
     "output_type": "execute_result"
    }
   ],
   "source": [
    "# prcp_analysis= session.query(Measurements.date, Measurements.prcp).\\\n",
    "#         filter(func.strftime(\"%Y\", Measurements.date) == \"2016\").\\\n",
    "#         order_by(Measurements.tobs).all()\n",
    "\n",
    "# prcp_df = pd.DataFrame(prcp_analysis)\n",
    "# date_prcp = prcp_df.set_index(prcp_df[\"date\"])\n",
    "# date_prcp.head()\n",
    "\n",
    "#x = prcp_df[\"date\"]\n",
    "#y = prcp_df[\"prcp\"]\n",
    "\n",
    "\n",
    "precip_2016 =session.query(Measurements.date,Measurements.prcp).\\\n",
    "filter(Measurements.date.between('2016-01-01','2016-12-31')).all()\n",
    "\n",
    "prec_df= pd.DataFrame(precip_2016)\n",
    "prec_df.head()"
   ]
  },
  {
   "cell_type": "code",
   "execution_count": 142,
   "metadata": {},
   "outputs": [
    {
     "data": {
      "text/html": [
       "<div>\n",
       "<style>\n",
       "    .dataframe thead tr:only-child th {\n",
       "        text-align: right;\n",
       "    }\n",
       "\n",
       "    .dataframe thead th {\n",
       "        text-align: left;\n",
       "    }\n",
       "\n",
       "    .dataframe tbody tr th {\n",
       "        vertical-align: top;\n",
       "    }\n",
       "</style>\n",
       "<table border=\"1\" class=\"dataframe\">\n",
       "  <thead>\n",
       "    <tr style=\"text-align: right;\">\n",
       "      <th></th>\n",
       "      <th>date</th>\n",
       "      <th>prcp</th>\n",
       "    </tr>\n",
       "    <tr>\n",
       "      <th>date</th>\n",
       "      <th></th>\n",
       "      <th></th>\n",
       "    </tr>\n",
       "  </thead>\n",
       "  <tbody>\n",
       "    <tr>\n",
       "      <th>2016-01-01</th>\n",
       "      <td>2016-01-01</td>\n",
       "      <td>0.0</td>\n",
       "    </tr>\n",
       "    <tr>\n",
       "      <th>2016-01-02</th>\n",
       "      <td>2016-01-02</td>\n",
       "      <td>0.0</td>\n",
       "    </tr>\n",
       "    <tr>\n",
       "      <th>2016-01-03</th>\n",
       "      <td>2016-01-03</td>\n",
       "      <td>0.0</td>\n",
       "    </tr>\n",
       "    <tr>\n",
       "      <th>2016-01-04</th>\n",
       "      <td>2016-01-04</td>\n",
       "      <td>0.0</td>\n",
       "    </tr>\n",
       "    <tr>\n",
       "      <th>2016-01-05</th>\n",
       "      <td>2016-01-05</td>\n",
       "      <td>0.0</td>\n",
       "    </tr>\n",
       "  </tbody>\n",
       "</table>\n",
       "</div>"
      ],
      "text/plain": [
       "                 date  prcp\n",
       "date                       \n",
       "2016-01-01 2016-01-01   0.0\n",
       "2016-01-02 2016-01-02   0.0\n",
       "2016-01-03 2016-01-03   0.0\n",
       "2016-01-04 2016-01-04   0.0\n",
       "2016-01-05 2016-01-05   0.0"
      ]
     },
     "execution_count": 142,
     "metadata": {},
     "output_type": "execute_result"
    }
   ],
   "source": [
    "prec_df['date'] =  pd.to_datetime(prec_df['date'])\n",
    "prec_df.set_index(prec_df['date'], inplace = True)\n",
    "\n",
    "prec_df.head()"
   ]
  },
  {
   "cell_type": "code",
   "execution_count": 131,
   "metadata": {},
   "outputs": [
    {
     "data": {
      "text/html": [
       "<div>\n",
       "<style>\n",
       "    .dataframe thead tr:only-child th {\n",
       "        text-align: right;\n",
       "    }\n",
       "\n",
       "    .dataframe thead th {\n",
       "        text-align: left;\n",
       "    }\n",
       "\n",
       "    .dataframe tbody tr th {\n",
       "        vertical-align: top;\n",
       "    }\n",
       "</style>\n",
       "<table border=\"1\" class=\"dataframe\">\n",
       "  <thead>\n",
       "    <tr style=\"text-align: right;\">\n",
       "      <th></th>\n",
       "      <th>count</th>\n",
       "      <th>mean</th>\n",
       "      <th>std</th>\n",
       "      <th>min</th>\n",
       "      <th>25%</th>\n",
       "      <th>50%</th>\n",
       "      <th>75%</th>\n",
       "      <th>max</th>\n",
       "    </tr>\n",
       "  </thead>\n",
       "  <tbody>\n",
       "    <tr>\n",
       "      <th>prcp</th>\n",
       "      <td>2069.0</td>\n",
       "      <td>0.179845</td>\n",
       "      <td>0.506363</td>\n",
       "      <td>0.0</td>\n",
       "      <td>0.0</td>\n",
       "      <td>0.02</td>\n",
       "      <td>0.15</td>\n",
       "      <td>9.64</td>\n",
       "    </tr>\n",
       "  </tbody>\n",
       "</table>\n",
       "</div>"
      ],
      "text/plain": [
       "       count      mean       std  min  25%   50%   75%   max\n",
       "prcp  2069.0  0.179845  0.506363  0.0  0.0  0.02  0.15  9.64"
      ]
     },
     "execution_count": 131,
     "metadata": {},
     "output_type": "execute_result"
    }
   ],
   "source": [
    "prec_df.describe().T"
   ]
  },
  {
   "cell_type": "markdown",
   "metadata": {
    "collapsed": true
   },
   "source": [
    "# Station Analysis"
   ]
  },
  {
   "cell_type": "code",
   "execution_count": 31,
   "metadata": {
    "scrolled": true
   },
   "outputs": [
    {
     "data": {
      "text/plain": [
       "[('USC00519397'),\n",
       " ('USC00513117'),\n",
       " ('USC00514830'),\n",
       " ('USC00517948'),\n",
       " ('USC00518838'),\n",
       " ('USC00519523'),\n",
       " ('USC00519281'),\n",
       " ('USC00511918'),\n",
       " ('USC00516128')]"
      ]
     },
     "execution_count": 31,
     "metadata": {},
     "output_type": "execute_result"
    }
   ],
   "source": [
    "session.query(Stations.station).all()"
   ]
  },
  {
   "cell_type": "code",
   "execution_count": 105,
   "metadata": {},
   "outputs": [
    {
     "data": {
      "text/plain": [
       "[('USC00518838', 342),\n",
       " ('USC00517948', 683),\n",
       " ('USC00511918', 1932),\n",
       " ('USC00514830', 1937),\n",
       " ('USC00516128', 2484),\n",
       " ('USC00519523', 2572),\n",
       " ('USC00519397', 2685),\n",
       " ('USC00513117', 2696),\n",
       " ('USC00519281', 2772)]"
      ]
     },
     "execution_count": 105,
     "metadata": {},
     "output_type": "execute_result"
    }
   ],
   "source": [
    "# session.query(Stations.station, func.count())\\\n",
    "#     order_by(func.count(Stations.station))\\\n",
    "#     join(Measurements)\\\n",
    "#     order_by(Stations.station).all()\n",
    "\n",
    "\n",
    "active_stations = session.query(Measurements.station,func.count(Measurements.station))\\\n",
    ".order_by(func.count(Measurements.station))\\\n",
    ".group_by(Measurements.station).all()\n",
    "    \n",
    "active_stations"
   ]
  },
  {
   "cell_type": "code",
   "execution_count": 92,
   "metadata": {},
   "outputs": [
    {
     "data": {
      "text/html": [
       "<div>\n",
       "<style>\n",
       "    .dataframe thead tr:only-child th {\n",
       "        text-align: right;\n",
       "    }\n",
       "\n",
       "    .dataframe thead th {\n",
       "        text-align: left;\n",
       "    }\n",
       "\n",
       "    .dataframe tbody tr th {\n",
       "        vertical-align: top;\n",
       "    }\n",
       "</style>\n",
       "<table border=\"1\" class=\"dataframe\">\n",
       "  <thead>\n",
       "    <tr style=\"text-align: right;\">\n",
       "      <th></th>\n",
       "      <th>Station_id</th>\n",
       "      <th>Activity Count</th>\n",
       "    </tr>\n",
       "  </thead>\n",
       "  <tbody>\n",
       "    <tr>\n",
       "      <th>0</th>\n",
       "      <td>USC00518838</td>\n",
       "      <td>342</td>\n",
       "    </tr>\n",
       "    <tr>\n",
       "      <th>1</th>\n",
       "      <td>USC00517948</td>\n",
       "      <td>683</td>\n",
       "    </tr>\n",
       "    <tr>\n",
       "      <th>2</th>\n",
       "      <td>USC00511918</td>\n",
       "      <td>1932</td>\n",
       "    </tr>\n",
       "    <tr>\n",
       "      <th>3</th>\n",
       "      <td>USC00514830</td>\n",
       "      <td>1937</td>\n",
       "    </tr>\n",
       "    <tr>\n",
       "      <th>4</th>\n",
       "      <td>USC00516128</td>\n",
       "      <td>2484</td>\n",
       "    </tr>\n",
       "    <tr>\n",
       "      <th>5</th>\n",
       "      <td>USC00519523</td>\n",
       "      <td>2572</td>\n",
       "    </tr>\n",
       "    <tr>\n",
       "      <th>6</th>\n",
       "      <td>USC00519397</td>\n",
       "      <td>2685</td>\n",
       "    </tr>\n",
       "    <tr>\n",
       "      <th>7</th>\n",
       "      <td>USC00513117</td>\n",
       "      <td>2696</td>\n",
       "    </tr>\n",
       "    <tr>\n",
       "      <th>8</th>\n",
       "      <td>USC00519281</td>\n",
       "      <td>2772</td>\n",
       "    </tr>\n",
       "  </tbody>\n",
       "</table>\n",
       "</div>"
      ],
      "text/plain": [
       "    Station_id  Activity Count\n",
       "0  USC00518838             342\n",
       "1  USC00517948             683\n",
       "2  USC00511918            1932\n",
       "3  USC00514830            1937\n",
       "4  USC00516128            2484\n",
       "5  USC00519523            2572\n",
       "6  USC00519397            2685\n",
       "7  USC00513117            2696\n",
       "8  USC00519281            2772"
      ]
     },
     "execution_count": 92,
     "metadata": {},
     "output_type": "execute_result"
    }
   ],
   "source": [
    "station_list = []\n",
    "active_list = [] \n",
    "\n",
    "for station, activity in active_stations:\n",
    "    station_list.append(station)\n",
    "    active_list.append(activity)\n",
    "    \n",
    "station_activity_df = pd.DataFrame({'Activity Count': active_list,'Station_id': station_list})\n",
    "\n",
    "\n",
    "station_activity_df = station_activity_df[[ 'Station_id','Activity Count']]\n",
    "\n",
    "station_activity_df()"
   ]
  },
  {
   "cell_type": "code",
   "execution_count": 122,
   "metadata": {},
   "outputs": [
    {
     "data": {
      "text/plain": [
       "[(84, 'USC00519523'),\n",
       " (83, 'USC00514830'),\n",
       " (82, 'USC00517948'),\n",
       " (82, 'USC00519281'),\n",
       " (82, 'USC00519397'),\n",
       " (81, 'USC00516128'),\n",
       " (80, 'USC00513117')]"
      ]
     },
     "execution_count": 122,
     "metadata": {},
     "output_type": "execute_result"
    }
   ],
   "source": [
    "active_stations1 = session.query(Measurements.tobs,Measurements.station).\\\n",
    "   group_by(Measurements.station).\\\n",
    "   filter(func.strftime(\"%Y\", Measurements.date) == \"2016\").\\\n",
    "   order_by(func.max(Measurements.tobs).desc()).all()\n",
    "active_stations1    "
   ]
  },
  {
   "cell_type": "code",
   "execution_count": 126,
   "metadata": {},
   "outputs": [
    {
     "data": {
      "text/plain": [
       "[('2016-01-01', 64, 'USC00519523'),\n",
       " ('2016-01-02', 73, 'USC00519523'),\n",
       " ('2016-01-03', 69, 'USC00519523'),\n",
       " ('2016-01-06', 74, 'USC00519523'),\n",
       " ('2016-01-07', 68, 'USC00519523'),\n",
       " ('2016-01-08', 65, 'USC00519523'),\n",
       " ('2016-01-09', 77, 'USC00519523'),\n",
       " ('2016-01-10', 71, 'USC00519523'),\n",
       " ('2016-01-11', 66, 'USC00519523'),\n",
       " ('2016-01-12', 68, 'USC00519523'),\n",
       " ('2016-01-13', 64, 'USC00519523'),\n",
       " ('2016-01-14', 62, 'USC00519523'),\n",
       " ('2016-01-15', 67, 'USC00519523'),\n",
       " ('2016-01-16', 69, 'USC00519523'),\n",
       " ('2016-01-17', 67, 'USC00519523'),\n",
       " ('2016-01-18', 71, 'USC00519523'),\n",
       " ('2016-01-21', 70, 'USC00519523'),\n",
       " ('2016-01-22', 67, 'USC00519523'),\n",
       " ('2016-01-25', 70, 'USC00519523'),\n",
       " ('2016-01-26', 67, 'USC00519523'),\n",
       " ('2016-01-31', 73, 'USC00519523'),\n",
       " ('2016-02-01', 69, 'USC00519523'),\n",
       " ('2016-02-02', 70, 'USC00519523'),\n",
       " ('2016-02-03', 73, 'USC00519523'),\n",
       " ('2016-02-04', 70, 'USC00519523'),\n",
       " ('2016-02-05', 69, 'USC00519523'),\n",
       " ('2016-02-08', 61, 'USC00519523'),\n",
       " ('2016-02-09', 59, 'USC00519523'),\n",
       " ('2016-02-10', 70, 'USC00519523'),\n",
       " ('2016-02-11', 73, 'USC00519523'),\n",
       " ('2016-02-12', 73, 'USC00519523'),\n",
       " ('2016-02-16', 72, 'USC00519523'),\n",
       " ('2016-02-17', 72, 'USC00519523'),\n",
       " ('2016-02-18', 72, 'USC00519523'),\n",
       " ('2016-02-19', 68, 'USC00519523'),\n",
       " ('2016-02-20', 65, 'USC00519523'),\n",
       " ('2016-02-21', 74, 'USC00519523'),\n",
       " ('2016-02-22', 74, 'USC00519523'),\n",
       " ('2016-02-23', 63, 'USC00519523'),\n",
       " ('2016-02-24', 66, 'USC00519523'),\n",
       " ('2016-02-25', 67, 'USC00519523'),\n",
       " ('2016-02-26', 71, 'USC00519523'),\n",
       " ('2016-02-27', 69, 'USC00519523'),\n",
       " ('2016-02-28', 67, 'USC00519523'),\n",
       " ('2016-02-29', 67, 'USC00519523'),\n",
       " ('2016-03-01', 73, 'USC00519523'),\n",
       " ('2016-03-02', 70, 'USC00519523'),\n",
       " ('2016-03-03', 68, 'USC00519523'),\n",
       " ('2016-03-04', 75, 'USC00519523'),\n",
       " ('2016-03-05', 73, 'USC00519523'),\n",
       " ('2016-03-06', 69, 'USC00519523'),\n",
       " ('2016-03-07', 68, 'USC00519523'),\n",
       " ('2016-03-08', 75, 'USC00519523'),\n",
       " ('2016-03-09', 68, 'USC00519523'),\n",
       " ('2016-03-10', 70, 'USC00519523'),\n",
       " ('2016-03-11', 72, 'USC00519523'),\n",
       " ('2016-03-12', 72, 'USC00519523'),\n",
       " ('2016-03-17', 69, 'USC00519523'),\n",
       " ('2016-03-18', 70, 'USC00519523'),\n",
       " ('2016-03-22', 69, 'USC00519523'),\n",
       " ('2016-03-23', 70, 'USC00519523'),\n",
       " ('2016-03-24', 73, 'USC00519523'),\n",
       " ('2016-03-25', 75, 'USC00519523'),\n",
       " ('2016-03-26', 77, 'USC00519523'),\n",
       " ('2016-03-27', 76, 'USC00519523'),\n",
       " ('2016-03-28', 73, 'USC00519523'),\n",
       " ('2016-03-29', 75, 'USC00519523'),\n",
       " ('2016-03-30', 69, 'USC00519523'),\n",
       " ('2016-03-31', 69, 'USC00519523'),\n",
       " ('2016-04-01', 76, 'USC00519523'),\n",
       " ('2016-04-02', 76, 'USC00519523'),\n",
       " ('2016-04-03', 78, 'USC00519523'),\n",
       " ('2016-04-04', 78, 'USC00519523'),\n",
       " ('2016-04-07', 72, 'USC00519523'),\n",
       " ('2016-04-08', 75, 'USC00519523'),\n",
       " ('2016-04-09', 76, 'USC00519523'),\n",
       " ('2016-04-10', 76, 'USC00519523'),\n",
       " ('2016-04-11', 75, 'USC00519523'),\n",
       " ('2016-04-12', 77, 'USC00519523'),\n",
       " ('2016-04-13', 77, 'USC00519523'),\n",
       " ('2016-04-14', 77, 'USC00519523'),\n",
       " ('2016-04-15', 79, 'USC00519523'),\n",
       " ('2016-04-16', 76, 'USC00519523'),\n",
       " ('2016-04-17', 72, 'USC00519523'),\n",
       " ('2016-04-18', 73, 'USC00519523'),\n",
       " ('2016-04-21', 75, 'USC00519523'),\n",
       " ('2016-04-22', 77, 'USC00519523'),\n",
       " ('2016-04-23', 77, 'USC00519523'),\n",
       " ('2016-04-24', 75, 'USC00519523'),\n",
       " ('2016-04-25', 79, 'USC00519523'),\n",
       " ('2016-04-26', 76, 'USC00519523'),\n",
       " ('2016-04-27', 79, 'USC00519523'),\n",
       " ('2016-04-28', 79, 'USC00519523'),\n",
       " ('2016-04-29', 77, 'USC00519523'),\n",
       " ('2016-04-30', 77, 'USC00519523'),\n",
       " ('2016-05-01', 78, 'USC00519523'),\n",
       " ('2016-05-02', 75, 'USC00519523'),\n",
       " ('2016-05-03', 78, 'USC00519523'),\n",
       " ('2016-05-04', 75, 'USC00519523'),\n",
       " ('2016-05-05', 77, 'USC00519523'),\n",
       " ('2016-05-06', 73, 'USC00519523'),\n",
       " ('2016-05-07', 71, 'USC00519523'),\n",
       " ('2016-05-08', 71, 'USC00519523'),\n",
       " ('2016-05-09', 73, 'USC00519523'),\n",
       " ('2016-05-10', 74, 'USC00519523'),\n",
       " ('2016-05-11', 74, 'USC00519523'),\n",
       " ('2016-05-12', 73, 'USC00519523'),\n",
       " ('2016-05-13', 75, 'USC00519523'),\n",
       " ('2016-05-14', 74, 'USC00519523'),\n",
       " ('2016-05-15', 79, 'USC00519523'),\n",
       " ('2016-05-16', 78, 'USC00519523'),\n",
       " ('2016-05-17', 78, 'USC00519523'),\n",
       " ('2016-05-18', 77, 'USC00519523'),\n",
       " ('2016-05-19', 77, 'USC00519523'),\n",
       " ('2016-05-20', 78, 'USC00519523'),\n",
       " ('2016-05-21', 78, 'USC00519523'),\n",
       " ('2016-05-22', 78, 'USC00519523'),\n",
       " ('2016-05-23', 79, 'USC00519523'),\n",
       " ('2016-05-24', 77, 'USC00519523'),\n",
       " ('2016-05-25', 77, 'USC00519523'),\n",
       " ('2016-05-26', 81, 'USC00519523'),\n",
       " ('2016-05-27', 80, 'USC00519523'),\n",
       " ('2016-05-28', 79, 'USC00519523'),\n",
       " ('2016-05-29', 78, 'USC00519523'),\n",
       " ('2016-05-30', 78, 'USC00519523'),\n",
       " ('2016-05-31', 71, 'USC00519523'),\n",
       " ('2016-06-01', 75, 'USC00519523'),\n",
       " ('2016-06-02', 75, 'USC00519523'),\n",
       " ('2016-06-03', 75, 'USC00519523'),\n",
       " ('2016-06-04', 75, 'USC00519523'),\n",
       " ('2016-06-05', 73, 'USC00519523'),\n",
       " ('2016-06-06', 78, 'USC00519523'),\n",
       " ('2016-06-07', 77, 'USC00519523'),\n",
       " ('2016-06-08', 80, 'USC00519523'),\n",
       " ('2016-06-09', 72, 'USC00519523'),\n",
       " ('2016-06-10', 78, 'USC00519523'),\n",
       " ('2016-06-11', 78, 'USC00519523'),\n",
       " ('2016-06-12', 77, 'USC00519523'),\n",
       " ('2016-06-13', 78, 'USC00519523'),\n",
       " ('2016-06-14', 79, 'USC00519523'),\n",
       " ('2016-06-15', 80, 'USC00519523'),\n",
       " ('2016-06-18', 77, 'USC00519523'),\n",
       " ('2016-06-19', 79, 'USC00519523'),\n",
       " ('2016-06-20', 79, 'USC00519523'),\n",
       " ('2016-06-21', 77, 'USC00519523'),\n",
       " ('2016-06-22', 79, 'USC00519523'),\n",
       " ('2016-06-23', 80, 'USC00519523'),\n",
       " ('2016-06-24', 80, 'USC00519523'),\n",
       " ('2016-06-25', 77, 'USC00519523'),\n",
       " ('2016-06-26', 79, 'USC00519523'),\n",
       " ('2016-06-27', 81, 'USC00519523'),\n",
       " ('2016-06-28', 78, 'USC00519523'),\n",
       " ('2016-06-29', 80, 'USC00519523'),\n",
       " ('2016-06-30', 79, 'USC00519523'),\n",
       " ('2016-07-03', 76, 'USC00519523'),\n",
       " ('2016-07-04', 81, 'USC00519523'),\n",
       " ('2016-07-05', 76, 'USC00519523'),\n",
       " ('2016-07-06', 76, 'USC00519523'),\n",
       " ('2016-07-07', 80, 'USC00519523'),\n",
       " ('2016-07-08', 80, 'USC00519523'),\n",
       " ('2016-07-09', 78, 'USC00519523'),\n",
       " ('2016-07-10', 78, 'USC00519523'),\n",
       " ('2016-07-11', 78, 'USC00519523'),\n",
       " ('2016-07-12', 80, 'USC00519523'),\n",
       " ('2016-07-15', 80, 'USC00519523'),\n",
       " ('2016-07-16', 79, 'USC00519523'),\n",
       " ('2016-07-17', 82, 'USC00519523'),\n",
       " ('2016-07-18', 76, 'USC00519523'),\n",
       " ('2016-07-19', 80, 'USC00519523'),\n",
       " ('2016-07-20', 82, 'USC00519523'),\n",
       " ('2016-07-21', 80, 'USC00519523'),\n",
       " ('2016-07-24', 78, 'USC00519523'),\n",
       " ('2016-07-25', 80, 'USC00519523'),\n",
       " ('2016-07-26', 80, 'USC00519523'),\n",
       " ('2016-07-27', 83, 'USC00519523'),\n",
       " ('2016-07-28', 82, 'USC00519523'),\n",
       " ('2016-07-29', 82, 'USC00519523'),\n",
       " ('2016-07-30', 77, 'USC00519523'),\n",
       " ('2016-07-31', 80, 'USC00519523'),\n",
       " ('2016-08-01', 77, 'USC00519523'),\n",
       " ('2016-08-02', 78, 'USC00519523'),\n",
       " ('2016-08-03', 81, 'USC00519523'),\n",
       " ('2016-08-04', 80, 'USC00519523'),\n",
       " ('2016-08-05', 80, 'USC00519523'),\n",
       " ('2016-08-06', 79, 'USC00519523'),\n",
       " ('2016-08-07', 79, 'USC00519523'),\n",
       " ('2016-08-08', 83, 'USC00519523'),\n",
       " ('2016-08-09', 80, 'USC00519523'),\n",
       " ('2016-08-10', 82, 'USC00519523'),\n",
       " ('2016-08-11', 80, 'USC00519523'),\n",
       " ('2016-08-12', 77, 'USC00519523'),\n",
       " ('2016-08-13', 81, 'USC00519523'),\n",
       " ('2016-08-14', 82, 'USC00519523'),\n",
       " ('2016-08-15', 81, 'USC00519523'),\n",
       " ('2016-08-16', 80, 'USC00519523'),\n",
       " ('2016-08-17', 78, 'USC00519523'),\n",
       " ('2016-08-18', 81, 'USC00519523'),\n",
       " ('2016-08-19', 79, 'USC00519523'),\n",
       " ('2016-08-20', 81, 'USC00519523'),\n",
       " ('2016-08-21', 80, 'USC00519523'),\n",
       " ('2016-08-22', 80, 'USC00519523'),\n",
       " ('2016-08-23', 80, 'USC00519523'),\n",
       " ('2016-08-24', 79, 'USC00519523'),\n",
       " ('2016-08-25', 80, 'USC00519523'),\n",
       " ('2016-08-26', 84, 'USC00519523'),\n",
       " ('2016-08-27', 81, 'USC00519523'),\n",
       " ('2016-08-28', 80, 'USC00519523'),\n",
       " ('2016-08-29', 79, 'USC00519523'),\n",
       " ('2016-08-30', 78, 'USC00519523'),\n",
       " ('2016-08-31', 78, 'USC00519523'),\n",
       " ('2016-09-03', 78, 'USC00519523'),\n",
       " ('2016-09-04', 84, 'USC00519523'),\n",
       " ('2016-09-05', 84, 'USC00519523'),\n",
       " ('2016-09-06', 78, 'USC00519523'),\n",
       " ('2016-09-07', 76, 'USC00519523'),\n",
       " ('2016-09-08', 79, 'USC00519523'),\n",
       " ('2016-09-09', 77, 'USC00519523'),\n",
       " ('2016-09-10', 78, 'USC00519523'),\n",
       " ('2016-09-11', 83, 'USC00519523'),\n",
       " ('2016-09-12', 78, 'USC00519523'),\n",
       " ('2016-09-13', 77, 'USC00519523'),\n",
       " ('2016-09-14', 77, 'USC00519523'),\n",
       " ('2016-09-15', 79, 'USC00519523'),\n",
       " ('2016-09-16', 78, 'USC00519523'),\n",
       " ('2016-09-17', 81, 'USC00519523'),\n",
       " ('2016-09-18', 81, 'USC00519523'),\n",
       " ('2016-09-19', 78, 'USC00519523'),\n",
       " ('2016-09-20', 77, 'USC00519523'),\n",
       " ('2016-09-21', 79, 'USC00519523'),\n",
       " ('2016-09-22', 79, 'USC00519523'),\n",
       " ('2016-09-23', 80, 'USC00519523'),\n",
       " ('2016-09-24', 83, 'USC00519523'),\n",
       " ('2016-09-25', 82, 'USC00519523'),\n",
       " ('2016-09-26', 78, 'USC00519523'),\n",
       " ('2016-09-27', 78, 'USC00519523'),\n",
       " ('2016-09-28', 78, 'USC00519523'),\n",
       " ('2016-09-29', 82, 'USC00519523'),\n",
       " ('2016-09-30', 78, 'USC00519523'),\n",
       " ('2016-10-01', 79, 'USC00519523'),\n",
       " ('2016-10-02', 81, 'USC00519523'),\n",
       " ('2016-10-03', 79, 'USC00519523'),\n",
       " ('2016-10-04', 80, 'USC00519523'),\n",
       " ('2016-10-05', 80, 'USC00519523'),\n",
       " ('2016-10-06', 80, 'USC00519523'),\n",
       " ('2016-10-07', 79, 'USC00519523'),\n",
       " ('2016-10-08', 82, 'USC00519523'),\n",
       " ('2016-10-09', 80, 'USC00519523'),\n",
       " ('2016-10-10', 78, 'USC00519523'),\n",
       " ('2016-10-11', 81, 'USC00519523'),\n",
       " ('2016-10-12', 81, 'USC00519523'),\n",
       " ('2016-10-13', 79, 'USC00519523'),\n",
       " ('2016-10-14', 80, 'USC00519523'),\n",
       " ('2016-10-15', 79, 'USC00519523'),\n",
       " ('2016-10-16', 81, 'USC00519523'),\n",
       " ('2016-10-17', 80, 'USC00519523'),\n",
       " ('2016-10-18', 80, 'USC00519523'),\n",
       " ('2016-10-19', 78, 'USC00519523'),\n",
       " ('2016-10-22', 80, 'USC00519523'),\n",
       " ('2016-10-23', 81, 'USC00519523'),\n",
       " ('2016-10-24', 75, 'USC00519523'),\n",
       " ('2016-10-25', 77, 'USC00519523'),\n",
       " ('2016-10-26', 78, 'USC00519523'),\n",
       " ('2016-10-27', 78, 'USC00519523'),\n",
       " ('2016-10-28', 78, 'USC00519523'),\n",
       " ('2016-10-29', 78, 'USC00519523'),\n",
       " ('2016-10-30', 79, 'USC00519523'),\n",
       " ('2016-10-31', 78, 'USC00519523'),\n",
       " ('2016-11-01', 79, 'USC00519523'),\n",
       " ('2016-11-02', 76, 'USC00519523'),\n",
       " ('2016-11-03', 77, 'USC00519523'),\n",
       " ('2016-11-04', 76, 'USC00519523'),\n",
       " ('2016-11-05', 78, 'USC00519523'),\n",
       " ('2016-11-06', 78, 'USC00519523'),\n",
       " ('2016-11-07', 76, 'USC00519523'),\n",
       " ('2016-11-08', 77, 'USC00519523'),\n",
       " ('2016-11-09', 75, 'USC00519523'),\n",
       " ('2016-11-10', 72, 'USC00519523'),\n",
       " ('2016-11-11', 73, 'USC00519523'),\n",
       " ('2016-11-12', 79, 'USC00519523'),\n",
       " ('2016-11-13', 79, 'USC00519523'),\n",
       " ('2016-11-14', 78, 'USC00519523'),\n",
       " ('2016-11-15', 77, 'USC00519523'),\n",
       " ('2016-11-16', 77, 'USC00519523'),\n",
       " ('2016-11-17', 77, 'USC00519523'),\n",
       " ('2016-11-18', 77, 'USC00519523'),\n",
       " ('2016-11-19', 76, 'USC00519523'),\n",
       " ('2016-11-20', 80, 'USC00519523'),\n",
       " ('2016-11-21', 75, 'USC00519523'),\n",
       " ('2016-11-22', 76, 'USC00519523'),\n",
       " ('2016-11-23', 75, 'USC00519523'),\n",
       " ('2016-11-24', 75, 'USC00519523'),\n",
       " ('2016-11-25', 76, 'USC00519523'),\n",
       " ('2016-11-26', 78, 'USC00519523'),\n",
       " ('2016-11-27', 78, 'USC00519523'),\n",
       " ('2016-11-28', 77, 'USC00519523'),\n",
       " ('2016-11-29', 76, 'USC00519523'),\n",
       " ('2016-11-30', 76, 'USC00519523'),\n",
       " ('2016-12-01', 76, 'USC00519523'),\n",
       " ('2016-12-02', 75, 'USC00519523'),\n",
       " ('2016-12-03', 75, 'USC00519523'),\n",
       " ('2016-12-04', 75, 'USC00519523'),\n",
       " ('2016-12-05', 70, 'USC00519523'),\n",
       " ('2016-12-06', 70, 'USC00519523'),\n",
       " ('2016-12-07', 74, 'USC00519523'),\n",
       " ('2016-12-08', 73, 'USC00519523'),\n",
       " ('2016-12-11', 78, 'USC00519523'),\n",
       " ('2016-12-12', 67, 'USC00519523'),\n",
       " ('2016-12-13', 69, 'USC00519523'),\n",
       " ('2016-12-14', 71, 'USC00519523'),\n",
       " ('2016-12-15', 74, 'USC00519523'),\n",
       " ('2016-12-16', 63, 'USC00519523'),\n",
       " ('2016-12-17', 76, 'USC00519523'),\n",
       " ('2016-12-18', 76, 'USC00519523'),\n",
       " ('2016-12-19', 71, 'USC00519523'),\n",
       " ('2016-12-20', 76, 'USC00519523'),\n",
       " ('2016-12-21', 77, 'USC00519523'),\n",
       " ('2016-12-22', 73, 'USC00519523'),\n",
       " ('2016-12-23', 71, 'USC00519523'),\n",
       " ('2016-12-24', 78, 'USC00519523'),\n",
       " ('2016-12-25', 78, 'USC00519523'),\n",
       " ('2016-12-26', 75, 'USC00519523'),\n",
       " ('2016-12-27', 75, 'USC00519523'),\n",
       " ('2016-12-28', 72, 'USC00519523'),\n",
       " ('2016-12-29', 77, 'USC00519523'),\n",
       " ('2016-12-30', 72, 'USC00519523')]"
      ]
     },
     "execution_count": 126,
     "metadata": {},
     "output_type": "execute_result"
    }
   ],
   "source": [
    "Stationhigh_obervations = session.query(Measurements.date,Measurements.tobs,Measurements.station).\\\n",
    "filter(Measurements.date.between('2016-01-01','2016-12-31')).filter_by(station='USC00519523')\\\n",
    ".all()\n",
    "#USC00519281\n",
    "\n",
    "Stationhigh_obervations"
   ]
  },
  {
   "cell_type": "code",
   "execution_count": null,
   "metadata": {
    "collapsed": true
   },
   "outputs": [],
   "source": [
    "date_list = []\n",
    "temp_list = []\n",
    "station_list = []\n",
    "\n",
    "for date, temp, station "
   ]
  },
  {
   "cell_type": "markdown",
   "metadata": {},
   "source": [
    "## Temperature Analysis"
   ]
  },
  {
   "cell_type": "code",
   "execution_count": 144,
   "metadata": {},
   "outputs": [
    {
     "name": "stdout",
     "output_type": "stream",
     "text": [
      "[(56, 74.08554857419043, 84)]\n"
     ]
    }
   ],
   "source": [
    "def calc_temps(start_date, end_date):\n",
    "    \"\"\"TMIN, TAVG, and TMAX for a list of dates.\n",
    "    \n",
    "    Args:\n",
    "        start_date (string): A date string in the format %Y-%m-%d\n",
    "        end_date (string): A date string in the format %Y-%m-%d\n",
    "        \n",
    "    Returns:\n",
    "        TMIN, TAVE, and TMAX\n",
    "    \"\"\"\n",
    "    \n",
    "    return session.query(func.min(Measurements.tobs), func.avg(Measurements.tobs), func.max(Measurements.tobs)).\\\n",
    "        filter(Measurements.date >= start_date).filter(Measurements.date <= end_date).all()\n",
    "print(calc_temps('2016-01-01', '2016-12-31'))"
   ]
  },
  {
   "cell_type": "code",
   "execution_count": 150,
   "metadata": {},
   "outputs": [
    {
     "ename": "AttributeError",
     "evalue": "module 'pandas' has no attribute 'Dataframe'",
     "output_type": "error",
     "traceback": [
      "\u001b[1;31m---------------------------------------------------------------------------\u001b[0m",
      "\u001b[1;31mAttributeError\u001b[0m                            Traceback (most recent call last)",
      "\u001b[1;32m<ipython-input-150-97476472dbd5>\u001b[0m in \u001b[0;36m<module>\u001b[1;34m()\u001b[0m\n\u001b[0;32m      1\u001b[0m \u001b[0mtemp_plot\u001b[0m \u001b[1;33m=\u001b[0m \u001b[0mcalc_temps\u001b[0m\u001b[1;33m(\u001b[0m\u001b[1;34m'2016-01-01'\u001b[0m\u001b[1;33m,\u001b[0m \u001b[1;34m'2016-12-31'\u001b[0m\u001b[1;33m)\u001b[0m\u001b[1;33m\u001b[0m\u001b[0m\n\u001b[0;32m      2\u001b[0m \u001b[1;33m\u001b[0m\u001b[0m\n\u001b[1;32m----> 3\u001b[1;33m \u001b[0mdf_temp_2016\u001b[0m \u001b[1;33m=\u001b[0m \u001b[0mpd\u001b[0m\u001b[1;33m.\u001b[0m\u001b[0mDataframe\u001b[0m\u001b[1;33m(\u001b[0m\u001b[0mtemp_plot\u001b[0m\u001b[1;33m)\u001b[0m\u001b[1;33m\u001b[0m\u001b[0m\n\u001b[0m",
      "\u001b[1;31mAttributeError\u001b[0m: module 'pandas' has no attribute 'Dataframe'"
     ]
    }
   ],
   "source": [
    "temp_plot = calc_temps('2016-01-01', '2016-12-31')\n",
    "\n",
    "df_temp_2016 = pd.Dataframe(temp_plot)\n"
   ]
  },
  {
   "cell_type": "code",
   "execution_count": null,
   "metadata": {
    "collapsed": true
   },
   "outputs": [],
   "source": []
  }
 ],
 "metadata": {
  "kernelspec": {
   "display_name": "Python 3",
   "language": "python",
   "name": "python3"
  },
  "language_info": {
   "codemirror_mode": {
    "name": "ipython",
    "version": 3
   },
   "file_extension": ".py",
   "mimetype": "text/x-python",
   "name": "python",
   "nbconvert_exporter": "python",
   "pygments_lexer": "ipython3",
   "version": "3.6.2"
  }
 },
 "nbformat": 4,
 "nbformat_minor": 2
}
